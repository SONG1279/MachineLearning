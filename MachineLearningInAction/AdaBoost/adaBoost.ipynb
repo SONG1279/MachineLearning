{
 "cells": [
  {
   "cell_type": "code",
   "execution_count": 4,
   "metadata": {
    "collapsed": true
   },
   "outputs": [],
   "source": [
    "#adaptive boosting:是一种集成方法，通过组合多个弱分类器的分类结果，进行加权求和的分类结果\n",
    "\n",
    "import numpy as np\n",
    "import matplotlib.pyplot as plt\n",
    "\n",
    "def loadSimpData():\n",
    "     datMat = np.matrix(\n",
    "        [[ 1. ,  2.1],\n",
    "        [ 2. ,  1.1],\n",
    "        [ 1.3,  1. ],\n",
    "        [ 1. ,  1. ],\n",
    "        [ 2. ,  1. ]])\n",
    "     classLabels = [1.0, 1.0, -1.0, -1.0, 1.0]\n",
    "     return datMat, classLabels\n",
    "\n",
    "datMat, classLabels = loadSimpData()\n",
    "\n",
    "xcord0 = []\n",
    "ycord0 = []\n",
    "xcord1 = []\n",
    "ycord1 = []\n",
    "markers =[]\n",
    "colors =[]\n",
    "\n",
    "for i in range(len(classLabels)):\n",
    "    if  classLabels[i] == 1.0:\n",
    "        xcord1.append(datMat[i, 0]), ycord1.append(datMat[i, 1])\n",
    "    else:\n",
    "        xcord0.append(datMat[i, 0]), ycord0.append(datMat[i, 1])\n",
    "fig = plt.figure()\n",
    "ax = fig.add_subplot(1,1,1)\n",
    "ax.scatter(xcord0, ycord0, marker='s', s=90)\n",
    "ax.scatter(xcord1, ycord1, marker='o', s=50, c='red')\n",
    "plt.xlabel('x-axis')\n",
    "plt.ylabel('y-axis')\n",
    "plt.title('my test data')\n",
    "plt.show()"
   ]
  },
  {
   "cell_type": "code",
   "execution_count": 7,
   "metadata": {},
   "outputs": [],
   "source": [
    "#分类函数\n",
    "#(数据集，特征，阈值，阈值判定方法)\n",
    "def stumpClassify(dataMatrix, dimen, threshVal, threshIneq):\n",
    "    retArray = np.ones((np.shape(dataMatrix)[0], 1))\n",
    "    if threshIneq == 'lt':\n",
    "        retArray[dataMatrix[:,dimen] <= threshVal] = -1.0\n",
    "    else:\n",
    "        retArray[dataMatrix[:,dimen] > threshVal] = -1.0\n",
    "    return retArray\n",
    "#构建单层决策树（decision stump决策树桩）\n",
    "#(数据集，分类标签y,样本数据的权重向量D)\n",
    "def buildStump(dataArr, classLabels, D):\n",
    "    dataMatrix = np.mat(dataArr)\n",
    "    labelMat = np.mat(classLabels).T\n",
    "    m, n = np.shape(dataMatrix)\n",
    "    numSteps = 10.0\n",
    "    bestStump = {}\n",
    "    bestClassEst = np.mat(np.zeros((m, 1)))\n",
    "    minError = np.inf\n",
    "    for i in range(n):\n",
    "        rangeMin = dataMatrix[:,i].min()\n",
    "        rangeMax = dataMatrix[:,i].max()\n",
    "        stepSize = (rangeMax - rangeMin)\n",
    "        for j in range(-2, int(numSteps) + 1):\n",
    "            for inequal in ['lt', 'gt']:\n",
    "                threshVal = (rangeMin + float(j) * stepSize)\n",
    "                #这里调用预测分类函数\n",
    "                predictedVals = stumpClassify(dataMatrix, i, threshVal, inequal)\n",
    "                errArr = np.mat(np.ones((m, 1)))\n",
    "                errArr[predictedVals == labelMat] = 0\n",
    "                weightedError = D.T*errArr\n",
    "                if weightedError < minError:\n",
    "                    minError = weightedError\n",
    "                    bestClassEst = predictedVals.copy()\n",
    "                    bestStump['dim'] = i\n",
    "                    bestStump['thresh'] = threshVal\n",
    "                    bestStump['ineq'] = inequal\n",
    "    return bestStump, minError, bestClassEst"
   ]
  },
  {
   "cell_type": "code",
   "execution_count": 8,
   "metadata": {},
   "outputs": [],
   "source": [
    "D = np.mat(np.ones((5,1)) / 5.0)\n",
    "bestStump, minError, bestClassEst = buildStump(datMat, classLabels, D)"
   ]
  },
  {
   "cell_type": "code",
   "execution_count": 10,
   "metadata": {},
   "outputs": [
    {
     "name": "stdout",
     "output_type": "stream",
     "text": [
      "{'dim': 1, 'thresh': 1.0, 'ineq': 'lt'}\n[[0.2]]\n[[ 1.]\n [ 1.]\n [-1.]\n [-1.]\n [-1.]]\n"
     ]
    }
   ],
   "source": [
    "print(bestStump)\n",
    "print(minError)\n",
    "print(bestClassEst)"
   ]
  },
  {
   "cell_type": "code",
   "execution_count": 12,
   "metadata": {},
   "outputs": [],
   "source": [
    "#单层决策树的训练过程 ：p117的公式\n",
    "#首先，基于样本的权重向量D（开始每个样本都是相同值）,\n",
    "# 然后训练一个弱分类器（单层决策树），并且得到分类的错误率（加权）和该分类器的权重值alpha\n",
    "#接着迭代：在同一个数据集中，调整D（分对的，权重降低，分错的，权重提高），再训练得到分类器\\错误率\\alpha\n",
    "#最后得到所有分类器的加权结果:sum(alpha[i]*y[i])\n",
    "def adaBoostTrainDS(dataArr, classLabels, numIt=40):\n",
    "    weakClassArr = []\n",
    "    m = np.shape(dataArr)[0]\n",
    "    D = np.mat(np.ones((m,1))/m)\n",
    "    aggClassEst=np.mat(np.zeros((m,1)))\n",
    "    errorRate=0.0\n",
    "    for i in range(numIt):\n",
    "        bestStump, error, classEst = buildStump(dataArr, classLabels, D)\n",
    "        alpha = float(0.5 * np.log((1.0 -error)/max(error,1e-16)))\n",
    "        bestStump['alpha'] = alpha\n",
    "        weakClassArr.append(bestStump)\n",
    "        expon = np.multiply(-1*alpha*np.mat(classLabels).T, classEst)\n",
    "        D = np.multiply(D, np.exp(expon))\n",
    "        D = D/D.sum()\n",
    "        aggClassEst += alpha*classEst\n",
    "        aggErrors = np.multiply(np.sign(aggClassEst) != np.mat(classLabels).T, np.ones((m, 1)))\n",
    "        errorRate = aggErrors.sum()/m\n",
    "        if errorRate ==0.0:\n",
    "            break\n",
    "    return weakClassArr, aggClassEst, errorRate"
   ]
  },
  {
   "cell_type": "code",
   "execution_count": 14,
   "metadata": {},
   "outputs": [],
   "source": [
    "weakClassArr,aggClassEst,errorRate = adaBoostTrainDS(datMat,classLabels)"
   ]
  },
  {
   "cell_type": "code",
   "execution_count": 15,
   "metadata": {},
   "outputs": [
    {
     "name": "stdout",
     "output_type": "stream",
     "text": [
      "[{'dim': 1, 'thresh': 1.0, 'ineq': 'lt', 'alpha': 0.6931471805599453}, {'dim': 0, 'thresh': -1.0, 'ineq': 'lt', 'alpha': 0.5493061443340549}, {'dim': 0, 'thresh': 1.0, 'ineq': 'lt', 'alpha': 0.34657359027997275}, {'dim': 1, 'thresh': 1.0, 'ineq': 'lt', 'alpha': 0.5493061443340549}, {'dim': 0, 'thresh': 1.0, 'ineq': 'lt', 'alpha': 0.3465735902799726}, {'dim': 1, 'thresh': 1.0, 'ineq': 'lt', 'alpha': 0.2554128118829953}, {'dim': 0, 'thresh': -1.0, 'ineq': 'lt', 'alpha': 0.25541281188299536}, {'dim': 1, 'thresh': 1.0, 'ineq': 'lt', 'alpha': 0.20273255405408197}, {'dim': 0, 'thresh': 1.0, 'ineq': 'lt', 'alpha': 0.20273255405408197}, {'dim': 1, 'thresh': 1.0, 'ineq': 'lt', 'alpha': 0.1682361183106065}, {'dim': 0, 'thresh': -1.0, 'ineq': 'lt', 'alpha': 0.16823611831060636}, {'dim': 1, 'thresh': 1.0, 'ineq': 'lt', 'alpha': 0.14384103622589034}, {'dim': 0, 'thresh': 1.0, 'ineq': 'lt', 'alpha': 0.14384103622589076}, {'dim': 1, 'thresh': 1.0, 'ineq': 'lt', 'alpha': 0.12565721414045325}, {'dim': 0, 'thresh': -1.0, 'ineq': 'lt', 'alpha': 0.12565721414045308}, {'dim': 1, 'thresh': 1.0, 'ineq': 'lt', 'alpha': 0.11157177565710488}, {'dim': 0, 'thresh': 1.0, 'ineq': 'lt', 'alpha': 0.11157177565710497}, {'dim': 1, 'thresh': 1.0, 'ineq': 'lt', 'alpha': 0.1003353477310757}, {'dim': 0, 'thresh': -1.0, 'ineq': 'lt', 'alpha': 0.10033534773107562}, {'dim': 1, 'thresh': 1.0, 'ineq': 'lt', 'alpha': 0.0911607783969773}, {'dim': 0, 'thresh': 1.0, 'ineq': 'lt', 'alpha': 0.0911607783969772}, {'dim': 1, 'thresh': 1.0, 'ineq': 'lt', 'alpha': 0.08352704233158284}, {'dim': 0, 'thresh': -1.0, 'ineq': 'lt', 'alpha': 0.08352704233158303}, {'dim': 1, 'thresh': 1.0, 'ineq': 'lt', 'alpha': 0.07707533991362928}, {'dim': 0, 'thresh': 1.0, 'ineq': 'lt', 'alpha': 0.07707533991362908}, {'dim': 1, 'thresh': 1.0, 'ineq': 'lt', 'alpha': 0.07155042182033662}, {'dim': 0, 'thresh': -1.0, 'ineq': 'lt', 'alpha': 0.07155042182033662}, {'dim': 1, 'thresh': 1.0, 'ineq': 'lt', 'alpha': 0.06676569631226129}, {'dim': 0, 'thresh': 1.0, 'ineq': 'lt', 'alpha': 0.06676569631226129}, {'dim': 1, 'thresh': 1.0, 'ineq': 'lt', 'alpha': 0.062581571477003}, {'dim': 0, 'thresh': -1.0, 'ineq': 'lt', 'alpha': 0.062581571477003}, {'dim': 1, 'thresh': 1.0, 'ineq': 'lt', 'alpha': 0.05889151782819173}, {'dim': 0, 'thresh': 1.0, 'ineq': 'lt', 'alpha': 0.05889151782819153}, {'dim': 1, 'thresh': 1.0, 'ineq': 'lt', 'alpha': 0.055612817555112}, {'dim': 0, 'thresh': -1.0, 'ineq': 'lt', 'alpha': 0.055612817555112}, {'dim': 1, 'thresh': 1.0, 'ineq': 'lt', 'alpha': 0.05268025782891307}, {'dim': 0, 'thresh': 1.0, 'ineq': 'lt', 'alpha': 0.05268025782891307}, {'dim': 1, 'thresh': 1.0, 'ineq': 'lt', 'alpha': 0.05004172927849111}, {'dim': 0, 'thresh': -1.0, 'ineq': 'lt', 'alpha': 0.05004172927849131}, {'dim': 1, 'thresh': 1.0, 'ineq': 'lt', 'alpha': 0.04765508990216247}]\n"
     ]
    }
   ],
   "source": [
    "#adaBoost分类函数\n",
    "#（数据集，训练好的多个分类器）\n",
    "#利用训练好的多个弱分类器，进行加权分类\n",
    "def adaClassify(dataToClass, classifierArr):\n",
    "    dataMatrix = np.mat(dataToClass)\n",
    "    m = np.shape(dataMatrix)[0]\n",
    "    aggClassEst = np.mat(np.zeros((m, 1)))\n",
    "    for i in range(len(classifierArr)):\n",
    "        classEst = stumpClassify(dataMatrix, classifierArr[i]['dim'],\n",
    "                                 classifierArr[i]['thresh'],\n",
    "                                 classifierArr[i]['ineq'])\n",
    "        aggClassEst += classifierArr[i]['alpha']*classEst\n",
    "    return np.sign(aggClassEst)"
   ]
  },
  {
   "cell_type": "code",
   "execution_count": null,
   "metadata": {},
   "outputs": [],
   "source": []
  },
  {
   "cell_type": "code",
   "execution_count": null,
   "metadata": {},
   "outputs": [],
   "source": []
  }
 ],
 "metadata": {
  "kernelspec": {
   "display_name": "Python 2",
   "language": "python",
   "name": "python2"
  },
  "language_info": {
   "codemirror_mode": {
    "name": "ipython",
    "version": 2
   },
   "file_extension": ".py",
   "mimetype": "text/x-python",
   "name": "python",
   "nbconvert_exporter": "python",
   "pygments_lexer": "ipython2",
   "version": "2.7.6"
  }
 },
 "nbformat": 4,
 "nbformat_minor": 0
}
