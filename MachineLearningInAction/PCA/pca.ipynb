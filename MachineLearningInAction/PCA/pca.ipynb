{
 "cells": [
  {
   "cell_type": "code",
   "execution_count": 2,
   "metadata": {
    "collapsed": true
   },
   "outputs": [],
   "source": [
    "import numpy as np\n",
    "def load_data(filename, splitstyle='\\t'):\n",
    "    dataset=[]\n",
    "    file = open(filename)\n",
    "    for line in file.readlines():\n",
    "        lineArr = line.strip().split(splitstyle)\n",
    "        m = len(lineArr)\n",
    "        dataset.append(lineArr[0:m])\n",
    "    return np.array(dataset, dtype=np.float64)\n",
    "        "
   ]
  },
  {
   "cell_type": "code",
   "execution_count": 3,
   "metadata": {},
   "outputs": [
    {
     "name": "stdout",
     "output_type": "stream",
     "text": [
      "(1000, 2)\n"
     ]
    }
   ],
   "source": [
    "x = load_data('MachineLearningInAction/PCA/testSet.txt')\n",
    "print(x.shape)\n",
    "import matplotlib.pyplot as plt\n",
    "plt.scatter(x[:,0], x[:,1],marker='x',c='r')\n",
    "plt.xlabel(\"x0\")\n",
    "plt.ylabel(\"x1\")\n",
    "plt.show()"
   ]
  },
  {
   "cell_type": "code",
   "execution_count": 6,
   "metadata": {},
   "outputs": [],
   "source": [
    "def pca(x,k):\n",
    "    x_mean = np.mean(x, axis=0)\n",
    "    x_nor = x - x_mean\n",
    "    x_cov = np.cov(x_nor, rowvar=0)\n",
    "    eigvals,eigVecs = np.linalg.eig(x_cov)\n",
    "    eigvals_sortindex = np.argsort(eigvals)\n",
    "    k_index = eigvals_sortindex[: -(k+1): -1]\n",
    "    k_eigVecs = eigVecs[:, k_index]\n",
    "    \n",
    "    lowData = x_nor.dot(k_eigVecs)\n",
    "    recData = lowData.dot(k_eigVecs.T) + x_mean\n",
    "    \n",
    "    return lowData,recData\n",
    "    "
   ]
  },
  {
   "cell_type": "code",
   "execution_count": 15,
   "metadata": {},
   "outputs": [
    {
     "name": "stdout",
     "output_type": "stream",
     "text": [
      "(1000, 1)\n(1000, 2)\n-5.446533784948595\n"
     ]
    }
   ],
   "source": [
    "lowData , recData = pca(x,k=1)\n",
    "print(lowData.shape)\n",
    "print(recData.shape)"
   ]
  },
  {
   "cell_type": "code",
   "execution_count": 11,
   "metadata": {},
   "outputs": [],
   "source": [
    "#可视化一下原始数据集合 以及 第一成分表示的集合\n",
    "plt.scatter(x[:,0],x[:,1],marker='x',color = 'r')\n",
    "plt.scatter(recData[:,0],recData[:,0],marker=\"o\",color=\"black\")\n",
    "plt.xlabel('x0')\n",
    "plt.ylabel('x1')\n",
    "plt.show()"
   ]
  },
  {
   "cell_type": "code",
   "execution_count": 16,
   "metadata": {},
   "outputs": [
    {
     "name": "stdout",
     "output_type": "stream",
     "text": [
      "(1567, 590)\n"
     ]
    }
   ],
   "source": [
    "def replaceNanWithMean():\n",
    "    data = load_data(\"MachineLearningInAction/PCA/secom.data\",splitstyle=\" \")\n",
    "    n = data.shape[1]\n",
    "    for j in range(n):\n",
    "        meanVal = np.mean(data[~np.isnan(data[:,j]),j]) #不是nan的平均值\n",
    "        data[np.isnan(data[:,j]),j] = meanVal\n",
    "    return data\n",
    "\n",
    "data = replaceNanWithMean()\n",
    "print(data.shape)"
   ]
  },
  {
   "cell_type": "code",
   "execution_count": 18,
   "metadata": {},
   "outputs": [
    {
     "name": "stdout",
     "output_type": "stream",
     "text": [
      "(590,)\n(590, 590)\n[59.25405798 24.12381887  9.15001359  2.30057852  1.45919235  0.51881753\n  0.32265809  0.31467665  0.26307953  0.23130666  0.21753458  0.207282\n  0.16908377  0.12559066  0.1203534   0.1140921   0.11111541  0.09245815\n  0.09050319  0.0861447 ]\n"
     ]
    }
   ],
   "source": [
    "#根据特征值分析哪些主成分可以包含主要的信息（一般包含90%信息量即可）\n",
    "#可以看到只需要前面的6个主成分，方差百分比和，就达到96.8%\n",
    "data_mean = np.mean(data,axis=0)\n",
    "data_removeMean = data - data_mean\n",
    "data_cov = np.cov(data_removeMean,rowvar=0)\n",
    "eigVal,eigVect = np.linalg.eig(data_cov)\n",
    "eigVal_sortIndex = np.argsort(eigVal)\n",
    "eigVal_sortIndex = eigVal_sortIndex[::-1] #倒序过来\n",
    "sort_eigval = eigVal[eigVal_sortIndex]  #从大到小排序\n",
    "totalval = np.sum(sort_eigval)\n",
    "var_rate = sort_eigval / totalval *100\n",
    "print(var_rate[:20].ravel())\n",
    "\n",
    "plt.plot(np.arange(1,21,1),var_rate[0:20],\"-o\")\n",
    "plt.xlabel(\"Principal Component Number\")\n",
    "plt.ylabel(\"Percentage of Variance\")\n",
    "plt.show()"
   ]
  },
  {
   "cell_type": "code",
   "execution_count": null,
   "metadata": {},
   "outputs": [],
   "source": []
  }
 ],
 "metadata": {
  "kernelspec": {
   "display_name": "Python 2",
   "language": "python",
   "name": "python2"
  },
  "language_info": {
   "codemirror_mode": {
    "name": "ipython",
    "version": 2
   },
   "file_extension": ".py",
   "mimetype": "text/x-python",
   "name": "python",
   "nbconvert_exporter": "python",
   "pygments_lexer": "ipython2",
   "version": "2.7.6"
  }
 },
 "nbformat": 4,
 "nbformat_minor": 0
}
