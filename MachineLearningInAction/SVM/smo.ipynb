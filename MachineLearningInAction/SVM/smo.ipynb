{
 "cells": [
  {
   "cell_type": "code",
   "execution_count": 2,
   "metadata": {
    "collapsed": true
   },
   "outputs": [],
   "source": [
    "#smo算法，里面的公式很复杂，这里只是简化版本，详细版本请参见原版代码\n",
    "#SMO基本思路：1.选取一对需要更新的alpha(i)和alpha(j) 2.固定其他的alpha,更新这两个值直到收敛\n",
    "#关键：怎么选取两个alpha值？   +  怎么更新？\n",
    "import numpy as np\n",
    "def load_data(filename):\n",
    "    dataset = []\n",
    "    label = []\n",
    "    file = open(filename)\n",
    "    for line in file.readlines():\n",
    "        lineArr = line.strip().split('\\t')\n",
    "        m = len(lineArr)\n",
    "        dataset.append(lineArr[0:m-1])\n",
    "        label.append(lineArr[-1])\n",
    "    return np.array(dataset, dtype=np.float64), np.array(label, dtype=np.int).reshape(-1,1)"
   ]
  },
  {
   "cell_type": "code",
   "execution_count": 3,
   "metadata": {},
   "outputs": [
    {
     "name": "stdout",
     "output_type": "stream",
     "text": [
      "(100, 2) (100, 1)\n[3.542485 1.977398] [-1]\n"
     ]
    }
   ],
   "source": [
    "import matplotlib.pyplot as plt\n",
    "x,y = load_data('MachineLearningInAction/SVM/testSet.txt')\n",
    "print(x.shape, y.shape)\n",
    "print(x[0], y[0])\n",
    "label1 = np.where(y.ravel() == -1)\n",
    "plt.scatter(x[label1,0], x[label1,1], marker='x', c='r', label='-1')\n",
    "label2 = np.where(y.ravel() == 1)\n",
    "plt.scatter(x[label2,0], x[label2,1], marker='o', c='b', label='1')\n",
    "plt.xlabel('x1')\n",
    "plt.ylabel('x2')\n",
    "plt.legend(loc = 'upper left')\n",
    "plt.show()"
   ]
  },
  {
   "cell_type": "code",
   "execution_count": 4,
   "metadata": {},
   "outputs": [],
   "source": [
    "def selectJrand(i,m):\n",
    "    j=i #we want to select any J not equal to i\n",
    "    while (j==i):\n",
    "        j = int(np.random.uniform(0,m))\n",
    "    return j\n",
    "\n",
    "def clipAlpha(aj,H,L):\n",
    "    if aj > H: \n",
    "        aj = H\n",
    "    if L > aj:\n",
    "        aj = L\n",
    "    return aj\n",
    "\n",
    "def smoSimple(dataMatIn, classLabels, C, toler, maxIter):\n",
    "    dataMatrix = np.mat(dataMatIn); labelMat = np.mat(classLabels).transpose()\n",
    "    b = 0; m,n = np.shape(dataMatrix)\n",
    "    alphas = np.mat(np.zeros((m,1)))\n",
    "    iter = 0\n",
    "    while (iter < maxIter):\n",
    "        alphaPairsChanged = 0\n",
    "        for i in range(m):\n",
    "            fXi = float(np.multiply(alphas,labelMat).T*(dataMatrix*dataMatrix[i,:].T)) + b\n",
    "            Ei = fXi - float(labelMat[i])#if checks if an example violates KKT conditions\n",
    "            if ((labelMat[i]*Ei < -toler) and (alphas[i] < C)) or ((labelMat[i]*Ei > toler) and (alphas[i] > 0)):\n",
    "                j = selectJrand(i,m)\n",
    "                fXj = float(np.multiply(alphas,labelMat).T*(dataMatrix*dataMatrix[j,:].T)) + b\n",
    "                Ej = fXj - float(labelMat[j])\n",
    "                alphaIold = alphas[i].copy()\n",
    "                alphaJold = alphas[j].copy()\n",
    "                if (labelMat[i] != labelMat[j]):\n",
    "                    L = max(0, alphas[j] - alphas[i])\n",
    "                    H = min(C, C + alphas[j] - alphas[i])\n",
    "                else:\n",
    "                    L = max(0, alphas[j] + alphas[i] - C)\n",
    "                    H = min(C, alphas[j] + alphas[i])\n",
    "                if L==H:\n",
    "                    #print \"L==H\"\n",
    "                    continue\n",
    "                eta = 2.0 * dataMatrix[i,:]*dataMatrix[j,:].T - dataMatrix[i,:]*dataMatrix[i,:].T - dataMatrix[j,:]*dataMatrix[j,:].T\n",
    "                if eta >= 0: \n",
    "                    #print \"eta>=0\"\n",
    "                    continue\n",
    "                alphas[j] -= labelMat[j]*(Ei - Ej)/eta\n",
    "                alphas[j] = clipAlpha(alphas[j],H,L)\n",
    "                if (abs(alphas[j] - alphaJold) < 0.00001):\n",
    "                    #print \"j not moving enough\"\n",
    "                    continue\n",
    "                alphas[i] += labelMat[j]*labelMat[i]*(alphaJold - alphas[j])#update i by the same amount as j\n",
    "                                                                        #the update is in the oppostie direction\n",
    "                b1 = b - Ei- labelMat[i]*(alphas[i]-alphaIold)*dataMatrix[i,:]*dataMatrix[i,:].T - labelMat[j]*(alphas[j]-alphaJold)*dataMatrix[i,:]*dataMatrix[j,:].T\n",
    "                b2 = b - Ej- labelMat[i]*(alphas[i]-alphaIold)*dataMatrix[i,:]*dataMatrix[j,:].T - labelMat[j]*(alphas[j]-alphaJold)*dataMatrix[j,:]*dataMatrix[j,:].T\n",
    "                if (0 < alphas[i]) and (C > alphas[i]): b = b1\n",
    "                elif (0 < alphas[j]) and (C > alphas[j]): b = b2\n",
    "                else: b = (b1 + b2)/2.0\n",
    "                alphaPairsChanged += 1\n",
    "                #print \"iter: %d i:%d, pairs changed %d\" % (iter,i,alphaPairsChanged)\n",
    "        if (alphaPairsChanged == 0): iter += 1\n",
    "        else: iter = 0\n",
    "        #print \"iteration number: %d\" % iter\n",
    "    return b,alphas"
   ]
  },
  {
   "cell_type": "code",
   "execution_count": 5,
   "metadata": {},
   "outputs": [
    {
     "name": "stdout",
     "output_type": "stream",
     "text": [
      "运行时间为 7.272517\n(100, 1)\n[[1.27382761e-01 2.41151760e-01 1.38777878e-17 3.68534520e-01]]\n"
     ]
    }
   ],
   "source": [
    "import time\n",
    "\n",
    "t0 = time.time()\n",
    "b,alphas = smoSimple(x, y.ravel(), 0.6, 0.001, 40)\n",
    "t1 = time.time()\n",
    "print('运行时间为 %f' %(t1 - t0))\n",
    "print(alphas.shape)\n",
    "print(alphas[alphas>0])"
   ]
  },
  {
   "cell_type": "code",
   "execution_count": 6,
   "metadata": {},
   "outputs": [
    {
     "name": "stdout",
     "output_type": "stream",
     "text": [
      "(2, 1)\n[[ 0.81384304]\n [-0.2725813 ]]\n"
     ]
    }
   ],
   "source": [
    "def calcWs(alphas, dataArr, classLabels):\n",
    "    X = np.mat(dataArr)\n",
    "    labelMat = np.mat(classLabels).transpose()\n",
    "    m,n = np.shape(X)\n",
    "    w = np.zeros((n,1))\n",
    "    for i in range(m):\n",
    "        w += np.multiply(alphas[i]*labelMat[i], X[i,:].T)\n",
    "    return w\n",
    "w = calcWs(alphas, x, y.ravel())\n",
    "print(w.shape)\n",
    "print(w)"
   ]
  },
  {
   "cell_type": "code",
   "execution_count": 11,
   "metadata": {},
   "outputs": [],
   "source": [
    "label1 = np.where(y.ravel() == -1)\n",
    "plt.scatter(x[label1, 0], x[label1, 1], marker='x', c='r', label='-1')\n",
    "label2 = np.where(y.ravel() == 1)\n",
    "plt.scatter(x[label2, 0], x[label2, 1], marker='s', c='black', label='1')\n",
    "supportIndex = np.nonzero(alphas > 0)[0]\n",
    "plt.plot(x[supportIndex, 0], x[supportIndex, 1], 'bo', markersize=15, fillstyle='none')\n",
    "\n",
    "b0 = b[0, 0]\n",
    "w0 = w[0, 0]\n",
    "w1 = w[1, 0]\n",
    "x0 = np.arange(-2.0, 12.0, 0.1)\n",
    "y0 = (-w0*x0 - b0) / w1\n",
    "plt.plot(x0, y0)\n",
    "plt.axis([-2, 12, -8, 6])\n",
    "plt.xlabel('x1')\n",
    "plt.xlabel('x2')\n",
    "plt.legend(loc='upper left')\n",
    "plt.show()\n"
   ]
  }
 ],
 "metadata": {
  "kernelspec": {
   "display_name": "Python 2",
   "language": "python",
   "name": "python2"
  },
  "language_info": {
   "codemirror_mode": {
    "name": "ipython",
    "version": 2
   },
   "file_extension": ".py",
   "mimetype": "text/x-python",
   "name": "python",
   "nbconvert_exporter": "python",
   "pygments_lexer": "ipython2",
   "version": "2.7.6"
  }
 },
 "nbformat": 4,
 "nbformat_minor": 0
}
